{
 "cells": [
  {
   "cell_type": "markdown",
   "metadata": {},
   "source": [
    "# Contact Scrapper with Image trial"
   ]
  },
  {
   "cell_type": "code",
   "execution_count": 1,
   "metadata": {},
   "outputs": [],
   "source": [
    "import pandas as pd\n",
    "import requests\n",
    "import bs4\n",
    "import re"
   ]
  },
  {
   "cell_type": "code",
   "execution_count": 2,
   "metadata": {},
   "outputs": [
    {
     "data": {
      "text/html": [
       "<div>\n",
       "<style scoped>\n",
       "    .dataframe tbody tr th:only-of-type {\n",
       "        vertical-align: middle;\n",
       "    }\n",
       "\n",
       "    .dataframe tbody tr th {\n",
       "        vertical-align: top;\n",
       "    }\n",
       "\n",
       "    .dataframe thead th {\n",
       "        text-align: right;\n",
       "    }\n",
       "</style>\n",
       "<table border=\"1\" class=\"dataframe\">\n",
       "  <thead>\n",
       "    <tr style=\"text-align: right;\">\n",
       "      <th></th>\n",
       "      <th>company</th>\n",
       "      <th>country</th>\n",
       "      <th>website</th>\n",
       "      <th>email</th>\n",
       "      <th>contact</th>\n",
       "    </tr>\n",
       "  </thead>\n",
       "  <tbody>\n",
       "    <tr>\n",
       "      <th>0</th>\n",
       "      <td>Rand Merchant Investment</td>\n",
       "      <td>South Africa</td>\n",
       "      <td>https://rmih.co.za/</td>\n",
       "      <td>NaN</td>\n",
       "      <td>NaN</td>\n",
       "    </tr>\n",
       "    <tr>\n",
       "      <th>1</th>\n",
       "      <td>Pepkor South Africa</td>\n",
       "      <td>South Africa</td>\n",
       "      <td>https://www.pepkor.co.za/</td>\n",
       "      <td>NaN</td>\n",
       "      <td>NaN</td>\n",
       "    </tr>\n",
       "    <tr>\n",
       "      <th>2</th>\n",
       "      <td>Santam Group</td>\n",
       "      <td>South Africa</td>\n",
       "      <td>https://www.santam.co.za/</td>\n",
       "      <td>NaN</td>\n",
       "      <td>NaN</td>\n",
       "    </tr>\n",
       "    <tr>\n",
       "      <th>3</th>\n",
       "      <td>African Rainbow Minerals</td>\n",
       "      <td>South Africa</td>\n",
       "      <td>https://arm.co.za/</td>\n",
       "      <td>NaN</td>\n",
       "      <td>NaN</td>\n",
       "    </tr>\n",
       "    <tr>\n",
       "      <th>4</th>\n",
       "      <td>AVI Limited</td>\n",
       "      <td>South Africa</td>\n",
       "      <td>https://www.avi.co.za/</td>\n",
       "      <td>NaN</td>\n",
       "      <td>NaN</td>\n",
       "    </tr>\n",
       "  </tbody>\n",
       "</table>\n",
       "</div>"
      ],
      "text/plain": [
       "                    company       country                    website  email  \\\n",
       "0  Rand Merchant Investment  South Africa        https://rmih.co.za/    NaN   \n",
       "1       Pepkor South Africa  South Africa  https://www.pepkor.co.za/    NaN   \n",
       "2              Santam Group  South Africa  https://www.santam.co.za/    NaN   \n",
       "3  African Rainbow Minerals  South Africa         https://arm.co.za/    NaN   \n",
       "4               AVI Limited  South Africa     https://www.avi.co.za/    NaN   \n",
       "\n",
       "   contact  \n",
       "0      NaN  \n",
       "1      NaN  \n",
       "2      NaN  \n",
       "3      NaN  \n",
       "4      NaN  "
      ]
     },
     "execution_count": 2,
     "metadata": {},
     "output_type": "execute_result"
    }
   ],
   "source": [
    "#Read the CSV file and confirm the data\n",
    "src_df = pd.read_csv(r'C:\\Users\\Nelly\\Desktop\\scrapper.csv')\n",
    "src_df.head()"
   ]
  },
  {
   "cell_type": "code",
   "execution_count": 3,
   "metadata": {},
   "outputs": [],
   "source": [
    "#Phone Scrapper\n",
    "\n",
    "def get_phone(soup):\n",
    "    try:\n",
    "        phone = soup.select(\"a[href*=callto]\")[0].text\n",
    "        return phone\n",
    "    except:\n",
    "        pass\n",
    "\n",
    "    try:\n",
    "        phone = re.findall(r'\\(?\\b[2-9][0-9]{2}\\)?[-][2-9][0-9]{2}[-][0-9]{4}\\b', response.text)[0]\n",
    "        return phone\n",
    "    except:\n",
    "        pass\n",
    "\n",
    "    try:\n",
    "       phone = re.findall(r'\\(?\\b[2-9][0-9]{2}\\)?[-. ]?[2-9][0-9]{2}[-. ]?[0-9]{4}\\b', response.text)[-1]\n",
    "       return phone\n",
    "    except:\n",
    "        print ('Phone number not found')\n",
    "        phone = ''\n",
    "        return phone"
   ]
  },
  {
   "cell_type": "code",
   "execution_count": 4,
   "metadata": {},
   "outputs": [],
   "source": [
    "#Email Scrapper\n",
    "\n",
    "def get_email(soup):\n",
    "    try:\n",
    "        email = re.findall(r'([a-zA-Z0-9._-]+@[a-zA-Z0-9._-]+\\.[a-zA-Z0-9_-]+)', response.text)[-1]\n",
    "        return email\n",
    "    except:\n",
    "        pass\n",
    "\n",
    "    try:\n",
    "        email = soup.select(\"a[href*=mailto]\")[-1].text\n",
    "    except:\n",
    "        print ('Email not found')\n",
    "        email = ''\n",
    "        return email\n"
   ]
  },
  {
   "cell_type": "code",
   "execution_count": 9,
   "metadata": {},
   "outputs": [],
   "source": [
    "#Image Scrapper\n",
    "for i, row in src_df.iterrows():\n",
    "    url = row['website']\n",
    "\n",
    "    soup = bs4.BeautifulSoup(url)\n",
    "\n",
    "    images = soup.findAll('image')\n",
    "\n",
    "def get_image(soup):\n",
    "    for image in images:\n",
    "        print(image['src'])\n",
    "        print(image['alt'])"
   ]
  },
  {
   "cell_type": "code",
   "execution_count": 13,
   "metadata": {},
   "outputs": [
    {
     "name": "stdout",
     "output_type": "stream",
     "text": [
      "Unsucessful<Response [403]>\n",
      "Unsucessful<Response [200]>\n",
      "Unsucessful<Response [200]>\n",
      "Unsucessful<Response [200]>\n",
      "Unsucessful<Response [200]>\n",
      "Unsucessful<Response [200]>\n"
     ]
    }
   ],
   "source": [
    "for i, row in src_df.iterrows():\n",
    "    url = row['website']\n",
    "    try:\n",
    "        response=requests.get(url)\n",
    "        soup=bs4.BeautifulSoup(page)\n",
    "        \n",
    "    except:\n",
    "        print('Unsucessful'  + str(response))\n",
    "        \n",
    "        continue\n",
    "\n",
    "    phone = get_phone(soup)\n",
    "    email = get_email(soup)\n",
    "    image = get_image(soup)\n",
    "\n",
    "    src_df.loc[i,'Phone'] = phone\n",
    "    src_df.loc[i,'Email'] = email\n",
    "    src_df.loc[i,'Image'] = image\n",
    "    print ('website:%s\\nphone: %s\\nemail: %s\\nimage: %s\\n' %(url, phone, email, image))\n",
    "\n",
    "src_df.to_csv('output3.csv')      "
   ]
  },
  {
   "cell_type": "code",
   "execution_count": null,
   "metadata": {},
   "outputs": [],
   "source": []
  },
  {
   "cell_type": "code",
   "execution_count": null,
   "metadata": {},
   "outputs": [],
   "source": []
  },
  {
   "cell_type": "code",
   "execution_count": null,
   "metadata": {},
   "outputs": [],
   "source": []
  }
 ],
 "metadata": {
  "kernelspec": {
   "display_name": "Python 3",
   "language": "python",
   "name": "python3"
  },
  "language_info": {
   "codemirror_mode": {
    "name": "ipython",
    "version": 3
   },
   "file_extension": ".py",
   "mimetype": "text/x-python",
   "name": "python",
   "nbconvert_exporter": "python",
   "pygments_lexer": "ipython3",
   "version": "3.7.6"
  }
 },
 "nbformat": 4,
 "nbformat_minor": 4
}
